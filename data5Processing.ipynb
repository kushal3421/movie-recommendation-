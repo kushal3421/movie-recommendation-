{
 "cells": [
  {
   "cell_type": "code",
   "execution_count": 2,
   "id": "39854230",
   "metadata": {},
   "outputs": [],
   "source": [
    "import pandas as pd\n",
    "import numpy as np\n",
    "import requests\n",
    "import bs4 as bs\n",
    "import urllib.request"
   ]
  },
  {
   "cell_type": "code",
   "execution_count": 3,
   "id": "e6b213ed",
   "metadata": {},
   "outputs": [],
   "source": [
    "link='https://en.wikipedia.org/wiki/List_of_American_films_of_2020'"
   ]
  },
  {
   "cell_type": "code",
   "execution_count": 4,
   "id": "bad8fe3d",
   "metadata": {},
   "outputs": [],
   "source": [
    "source=urllib.request.urlopen(link).read()\n",
    "soup=bs.BeautifulSoup(source,'lxml')"
   ]
  },
  {
   "cell_type": "code",
   "execution_count": 6,
   "id": "c7b80ebe",
   "metadata": {},
   "outputs": [],
   "source": [
    "tables=soup.find_all('table',class_='wikitable sortable')"
   ]
  },
  {
   "cell_type": "code",
   "execution_count": null,
   "id": "2471cb21",
   "metadata": {},
   "outputs": [],
   "source": [
    "len(tables)"
   ]
  },
  {
   "cell_type": "code",
   "execution_count": 7,
   "id": "d8415993",
   "metadata": {},
   "outputs": [
    {
     "data": {
      "text/plain": [
       "bs4.element.Tag"
      ]
     },
     "execution_count": 7,
     "metadata": {},
     "output_type": "execute_result"
    }
   ],
   "source": [
    "type(tables[0])"
   ]
  },
  {
   "cell_type": "code",
   "execution_count": 8,
   "id": "00546c97",
   "metadata": {},
   "outputs": [],
   "source": [
    "df1=pd.read_html(str(tables[0]))[0]\n",
    "df2=pd.read_html(str(tables[1]))[0]\n",
    "df3=pd.read_html(str(tables[2]))[0]\n",
    "df4=pd.read_html(str(tables[3]).replace(\"'1\\\"\\'\",'\"1\"'))[0] # avoided \"ValueError: invalid literal for int() with base 10: '1\"'"
   ]
  },
  {
   "cell_type": "code",
   "execution_count": 9,
   "id": "de8604eb",
   "metadata": {},
   "outputs": [
    {
     "name": "stderr",
     "output_type": "stream",
     "text": [
      "C:\\Users\\MAHAK\\AppData\\Local\\Temp\\ipykernel_18824\\1752420719.py:1: FutureWarning: The frame.append method is deprecated and will be removed from pandas in a future version. Use pandas.concat instead.\n",
      "  df = df1.append(df2.append(df3.append(df4,ignore_index=True),ignore_index=True),ignore_index=True)\n"
     ]
    }
   ],
   "source": [
    "df = df1.append(df2.append(df3.append(df4,ignore_index=True),ignore_index=True),ignore_index=True)"
   ]
  },
  {
   "cell_type": "code",
   "execution_count": 10,
   "id": "3e815f73",
   "metadata": {},
   "outputs": [
    {
     "data": {
      "text/html": [
       "<div>\n",
       "<style scoped>\n",
       "    .dataframe tbody tr th:only-of-type {\n",
       "        vertical-align: middle;\n",
       "    }\n",
       "\n",
       "    .dataframe tbody tr th {\n",
       "        vertical-align: top;\n",
       "    }\n",
       "\n",
       "    .dataframe thead th {\n",
       "        text-align: right;\n",
       "    }\n",
       "</style>\n",
       "<table border=\"1\" class=\"dataframe\">\n",
       "  <thead>\n",
       "    <tr style=\"text-align: right;\">\n",
       "      <th></th>\n",
       "      <th>Opening</th>\n",
       "      <th>Opening.1</th>\n",
       "      <th>Title</th>\n",
       "      <th>Production company</th>\n",
       "      <th>Cast and crew</th>\n",
       "      <th>.mw-parser-output .tooltip-dotted{border-bottom:1px dotted;cursor:help}Ref.</th>\n",
       "      <th>Ref.</th>\n",
       "    </tr>\n",
       "  </thead>\n",
       "  <tbody>\n",
       "    <tr>\n",
       "      <th>0</th>\n",
       "      <td>J A N U A R Y</td>\n",
       "      <td>3</td>\n",
       "      <td>The Grudge</td>\n",
       "      <td>Screen Gems / Stage 6 Films / Ghost House Pict...</td>\n",
       "      <td>Nicolas Pesce (director/screenplay); Andrea Ri...</td>\n",
       "      <td>[2]</td>\n",
       "      <td>NaN</td>\n",
       "    </tr>\n",
       "    <tr>\n",
       "      <th>1</th>\n",
       "      <td>J A N U A R Y</td>\n",
       "      <td>10</td>\n",
       "      <td>Underwater</td>\n",
       "      <td>20th Century Fox / TSG Entertainment / Chernin...</td>\n",
       "      <td>William Eubank (director); Brian Duffield, Ada...</td>\n",
       "      <td>[3]</td>\n",
       "      <td>NaN</td>\n",
       "    </tr>\n",
       "    <tr>\n",
       "      <th>2</th>\n",
       "      <td>J A N U A R Y</td>\n",
       "      <td>10</td>\n",
       "      <td>Like a Boss</td>\n",
       "      <td>Paramount Pictures</td>\n",
       "      <td>Miguel Arteta (director); Sam Pitman, Adam Col...</td>\n",
       "      <td>[4]</td>\n",
       "      <td>NaN</td>\n",
       "    </tr>\n",
       "    <tr>\n",
       "      <th>3</th>\n",
       "      <td>J A N U A R Y</td>\n",
       "      <td>10</td>\n",
       "      <td>Three Christs</td>\n",
       "      <td>IFC Films</td>\n",
       "      <td>Jon Avnet (director/screenplay); Eric Nazarian...</td>\n",
       "      <td>NaN</td>\n",
       "      <td>NaN</td>\n",
       "    </tr>\n",
       "    <tr>\n",
       "      <th>4</th>\n",
       "      <td>J A N U A R Y</td>\n",
       "      <td>10</td>\n",
       "      <td>Inherit the Viper</td>\n",
       "      <td>Barry Films / Tycor International Film Company</td>\n",
       "      <td>Anthony Jerjen (director); Andrew Crabtree (sc...</td>\n",
       "      <td>[5]</td>\n",
       "      <td>NaN</td>\n",
       "    </tr>\n",
       "    <tr>\n",
       "      <th>...</th>\n",
       "      <td>...</td>\n",
       "      <td>...</td>\n",
       "      <td>...</td>\n",
       "      <td>...</td>\n",
       "      <td>...</td>\n",
       "      <td>...</td>\n",
       "      <td>...</td>\n",
       "    </tr>\n",
       "    <tr>\n",
       "      <th>270</th>\n",
       "      <td>D E C E M B E R</td>\n",
       "      <td>25</td>\n",
       "      <td>We Can Be Heroes</td>\n",
       "      <td>Netflix / Troublemaker Studios / Double R Prod...</td>\n",
       "      <td>Robert Rodriguez (director/screenplay); Priyan...</td>\n",
       "      <td>NaN</td>\n",
       "      <td>[241]</td>\n",
       "    </tr>\n",
       "    <tr>\n",
       "      <th>271</th>\n",
       "      <td>D E C E M B E R</td>\n",
       "      <td>25</td>\n",
       "      <td>News of the World</td>\n",
       "      <td>Universal Pictures / Perfect World Pictures</td>\n",
       "      <td>Paul Greengrass (director/screenplay); Luke Da...</td>\n",
       "      <td>NaN</td>\n",
       "      <td>[242]</td>\n",
       "    </tr>\n",
       "    <tr>\n",
       "      <th>272</th>\n",
       "      <td>D E C E M B E R</td>\n",
       "      <td>25</td>\n",
       "      <td>One Night in Miami...</td>\n",
       "      <td>Amazon Studios</td>\n",
       "      <td>Regina King (director); Kemp Powers (screenpla...</td>\n",
       "      <td>NaN</td>\n",
       "      <td>[243]</td>\n",
       "    </tr>\n",
       "    <tr>\n",
       "      <th>273</th>\n",
       "      <td>D E C E M B E R</td>\n",
       "      <td>25</td>\n",
       "      <td>Promising Young Woman</td>\n",
       "      <td>Focus Features / FilmNation Entertainment</td>\n",
       "      <td>Emerald Fennell (director/screenplay); Carey M...</td>\n",
       "      <td>NaN</td>\n",
       "      <td>[244]</td>\n",
       "    </tr>\n",
       "    <tr>\n",
       "      <th>274</th>\n",
       "      <td>D E C E M B E R</td>\n",
       "      <td>30</td>\n",
       "      <td>Pieces of a Woman</td>\n",
       "      <td>Netflix / Bron Studios</td>\n",
       "      <td>Kornél Mundruczó (director); Kata Wéber (scree...</td>\n",
       "      <td>NaN</td>\n",
       "      <td>[245]</td>\n",
       "    </tr>\n",
       "  </tbody>\n",
       "</table>\n",
       "<p>275 rows × 7 columns</p>\n",
       "</div>"
      ],
      "text/plain": [
       "             Opening  Opening.1                  Title  \\\n",
       "0      J A N U A R Y          3             The Grudge   \n",
       "1      J A N U A R Y         10             Underwater   \n",
       "2      J A N U A R Y         10            Like a Boss   \n",
       "3      J A N U A R Y         10          Three Christs   \n",
       "4      J A N U A R Y         10      Inherit the Viper   \n",
       "..               ...        ...                    ...   \n",
       "270  D E C E M B E R         25       We Can Be Heroes   \n",
       "271  D E C E M B E R         25      News of the World   \n",
       "272  D E C E M B E R         25  One Night in Miami...   \n",
       "273  D E C E M B E R         25  Promising Young Woman   \n",
       "274  D E C E M B E R         30      Pieces of a Woman   \n",
       "\n",
       "                                    Production company  \\\n",
       "0    Screen Gems / Stage 6 Films / Ghost House Pict...   \n",
       "1    20th Century Fox / TSG Entertainment / Chernin...   \n",
       "2                                   Paramount Pictures   \n",
       "3                                            IFC Films   \n",
       "4       Barry Films / Tycor International Film Company   \n",
       "..                                                 ...   \n",
       "270  Netflix / Troublemaker Studios / Double R Prod...   \n",
       "271        Universal Pictures / Perfect World Pictures   \n",
       "272                                     Amazon Studios   \n",
       "273          Focus Features / FilmNation Entertainment   \n",
       "274                             Netflix / Bron Studios   \n",
       "\n",
       "                                         Cast and crew  \\\n",
       "0    Nicolas Pesce (director/screenplay); Andrea Ri...   \n",
       "1    William Eubank (director); Brian Duffield, Ada...   \n",
       "2    Miguel Arteta (director); Sam Pitman, Adam Col...   \n",
       "3    Jon Avnet (director/screenplay); Eric Nazarian...   \n",
       "4    Anthony Jerjen (director); Andrew Crabtree (sc...   \n",
       "..                                                 ...   \n",
       "270  Robert Rodriguez (director/screenplay); Priyan...   \n",
       "271  Paul Greengrass (director/screenplay); Luke Da...   \n",
       "272  Regina King (director); Kemp Powers (screenpla...   \n",
       "273  Emerald Fennell (director/screenplay); Carey M...   \n",
       "274  Kornél Mundruczó (director); Kata Wéber (scree...   \n",
       "\n",
       "    .mw-parser-output .tooltip-dotted{border-bottom:1px dotted;cursor:help}Ref.  \\\n",
       "0                                                  [2]                            \n",
       "1                                                  [3]                            \n",
       "2                                                  [4]                            \n",
       "3                                                  NaN                            \n",
       "4                                                  [5]                            \n",
       "..                                                 ...                            \n",
       "270                                                NaN                            \n",
       "271                                                NaN                            \n",
       "272                                                NaN                            \n",
       "273                                                NaN                            \n",
       "274                                                NaN                            \n",
       "\n",
       "      Ref.  \n",
       "0      NaN  \n",
       "1      NaN  \n",
       "2      NaN  \n",
       "3      NaN  \n",
       "4      NaN  \n",
       "..     ...  \n",
       "270  [241]  \n",
       "271  [242]  \n",
       "272  [243]  \n",
       "273  [244]  \n",
       "274  [245]  \n",
       "\n",
       "[275 rows x 7 columns]"
      ]
     },
     "execution_count": 10,
     "metadata": {},
     "output_type": "execute_result"
    }
   ],
   "source": [
    "df"
   ]
  },
  {
   "cell_type": "code",
   "execution_count": 11,
   "id": "7df1cb49",
   "metadata": {},
   "outputs": [],
   "source": [
    "df_5 = df[['Title','Cast and crew']]"
   ]
  },
  {
   "cell_type": "code",
   "execution_count": 12,
   "id": "2476c845",
   "metadata": {},
   "outputs": [
    {
     "data": {
      "text/html": [
       "<div>\n",
       "<style scoped>\n",
       "    .dataframe tbody tr th:only-of-type {\n",
       "        vertical-align: middle;\n",
       "    }\n",
       "\n",
       "    .dataframe tbody tr th {\n",
       "        vertical-align: top;\n",
       "    }\n",
       "\n",
       "    .dataframe thead th {\n",
       "        text-align: right;\n",
       "    }\n",
       "</style>\n",
       "<table border=\"1\" class=\"dataframe\">\n",
       "  <thead>\n",
       "    <tr style=\"text-align: right;\">\n",
       "      <th></th>\n",
       "      <th>Title</th>\n",
       "      <th>Cast and crew</th>\n",
       "    </tr>\n",
       "  </thead>\n",
       "  <tbody>\n",
       "    <tr>\n",
       "      <th>0</th>\n",
       "      <td>The Grudge</td>\n",
       "      <td>Nicolas Pesce (director/screenplay); Andrea Ri...</td>\n",
       "    </tr>\n",
       "    <tr>\n",
       "      <th>1</th>\n",
       "      <td>Underwater</td>\n",
       "      <td>William Eubank (director); Brian Duffield, Ada...</td>\n",
       "    </tr>\n",
       "    <tr>\n",
       "      <th>2</th>\n",
       "      <td>Like a Boss</td>\n",
       "      <td>Miguel Arteta (director); Sam Pitman, Adam Col...</td>\n",
       "    </tr>\n",
       "    <tr>\n",
       "      <th>3</th>\n",
       "      <td>Three Christs</td>\n",
       "      <td>Jon Avnet (director/screenplay); Eric Nazarian...</td>\n",
       "    </tr>\n",
       "    <tr>\n",
       "      <th>4</th>\n",
       "      <td>Inherit the Viper</td>\n",
       "      <td>Anthony Jerjen (director); Andrew Crabtree (sc...</td>\n",
       "    </tr>\n",
       "    <tr>\n",
       "      <th>...</th>\n",
       "      <td>...</td>\n",
       "      <td>...</td>\n",
       "    </tr>\n",
       "    <tr>\n",
       "      <th>270</th>\n",
       "      <td>We Can Be Heroes</td>\n",
       "      <td>Robert Rodriguez (director/screenplay); Priyan...</td>\n",
       "    </tr>\n",
       "    <tr>\n",
       "      <th>271</th>\n",
       "      <td>News of the World</td>\n",
       "      <td>Paul Greengrass (director/screenplay); Luke Da...</td>\n",
       "    </tr>\n",
       "    <tr>\n",
       "      <th>272</th>\n",
       "      <td>One Night in Miami...</td>\n",
       "      <td>Regina King (director); Kemp Powers (screenpla...</td>\n",
       "    </tr>\n",
       "    <tr>\n",
       "      <th>273</th>\n",
       "      <td>Promising Young Woman</td>\n",
       "      <td>Emerald Fennell (director/screenplay); Carey M...</td>\n",
       "    </tr>\n",
       "    <tr>\n",
       "      <th>274</th>\n",
       "      <td>Pieces of a Woman</td>\n",
       "      <td>Kornél Mundruczó (director); Kata Wéber (scree...</td>\n",
       "    </tr>\n",
       "  </tbody>\n",
       "</table>\n",
       "<p>275 rows × 2 columns</p>\n",
       "</div>"
      ],
      "text/plain": [
       "                     Title                                      Cast and crew\n",
       "0               The Grudge  Nicolas Pesce (director/screenplay); Andrea Ri...\n",
       "1               Underwater  William Eubank (director); Brian Duffield, Ada...\n",
       "2              Like a Boss  Miguel Arteta (director); Sam Pitman, Adam Col...\n",
       "3            Three Christs  Jon Avnet (director/screenplay); Eric Nazarian...\n",
       "4        Inherit the Viper  Anthony Jerjen (director); Andrew Crabtree (sc...\n",
       "..                     ...                                                ...\n",
       "270       We Can Be Heroes  Robert Rodriguez (director/screenplay); Priyan...\n",
       "271      News of the World  Paul Greengrass (director/screenplay); Luke Da...\n",
       "272  One Night in Miami...  Regina King (director); Kemp Powers (screenpla...\n",
       "273  Promising Young Woman  Emerald Fennell (director/screenplay); Carey M...\n",
       "274      Pieces of a Woman  Kornél Mundruczó (director); Kata Wéber (scree...\n",
       "\n",
       "[275 rows x 2 columns]"
      ]
     },
     "execution_count": 12,
     "metadata": {},
     "output_type": "execute_result"
    }
   ],
   "source": [
    "df_5"
   ]
  },
  {
   "cell_type": "code",
   "execution_count": 13,
   "id": "8e71a958",
   "metadata": {},
   "outputs": [],
   "source": [
    "#pip install tmdbv3api\n",
    "from tmdbv3api import TMDb\n",
    "import json\n",
    "import requests\n",
    "tmdb = TMDb()\n",
    "tmdb.api_key = '8adad600aa361bb1349465ffecb76997'"
   ]
  },
  {
   "cell_type": "code",
   "execution_count": 17,
   "id": "2875f47a",
   "metadata": {},
   "outputs": [],
   "source": [
    "from tmdbv3api import Movie\n",
    "tmdb_movie = Movie() \n",
    "def get_genre(x):\n",
    "    genres = []\n",
    "    result = tmdb_movie.search(x)\n",
    "    if not result:\n",
    "      return np.NaN\n",
    "    else:\n",
    "      movie_id = result[0].id\n",
    "      response = requests.get('https://api.themoviedb.org/3/movie/{}?api_key={}'.format(movie_id,tmdb.api_key))\n",
    "      data_json = response.json()\n",
    "      if data_json['genres']:\n",
    "          genre_str = \" \" \n",
    "          for i in range(0,len(data_json['genres'])):\n",
    "              genres.append(data_json['genres'][i]['name'])\n",
    "          return genre_str.join(genres)\n",
    "      else:\n",
    "          return np.NaN"
   ]
  },
  {
   "cell_type": "code",
   "execution_count": 19,
   "id": "b9033c3d",
   "metadata": {},
   "outputs": [
    {
     "name": "stderr",
     "output_type": "stream",
     "text": [
      "C:\\Users\\MAHAK\\AppData\\Local\\Temp\\ipykernel_18824\\4160290683.py:1: SettingWithCopyWarning: \n",
      "A value is trying to be set on a copy of a slice from a DataFrame.\n",
      "Try using .loc[row_indexer,col_indexer] = value instead\n",
      "\n",
      "See the caveats in the documentation: https://pandas.pydata.org/pandas-docs/stable/user_guide/indexing.html#returning-a-view-versus-a-copy\n",
      "  df_5['genres'] = df_5['Title'].map(lambda x: get_genre(str(x)))\n"
     ]
    }
   ],
   "source": [
    "df_5['genres'] = df_5['Title'].map(lambda x: get_genre(str(x)))"
   ]
  },
  {
   "cell_type": "code",
   "execution_count": 21,
   "id": "7c4aba2e",
   "metadata": {},
   "outputs": [],
   "source": [
    "def director(x):\n",
    "    if \"(director)\" in x:\n",
    "        return x.split(\"(director)\")[0]\n",
    "    elif \"(directors)\" in x:\n",
    "        return x.split(\"(directors)\")[0]\n",
    "    else:\n",
    "        return x.split(\"(director/screenplay)\")[0]"
   ]
  },
  {
   "cell_type": "code",
   "execution_count": 22,
   "id": "dafd5a52",
   "metadata": {},
   "outputs": [
    {
     "name": "stderr",
     "output_type": "stream",
     "text": [
      "C:\\Users\\MAHAK\\AppData\\Local\\Temp\\ipykernel_18824\\2399458305.py:1: SettingWithCopyWarning: \n",
      "A value is trying to be set on a copy of a slice from a DataFrame.\n",
      "Try using .loc[row_indexer,col_indexer] = value instead\n",
      "\n",
      "See the caveats in the documentation: https://pandas.pydata.org/pandas-docs/stable/user_guide/indexing.html#returning-a-view-versus-a-copy\n",
      "  df_5['director_name'] = df_5['Cast and crew'].map(lambda x: director(str(x)))\n"
     ]
    }
   ],
   "source": [
    "df_5['director_name'] = df_5['Cast and crew'].map(lambda x: director(str(x)))"
   ]
  },
  {
   "cell_type": "code",
   "execution_count": 23,
   "id": "a812153d",
   "metadata": {},
   "outputs": [],
   "source": [
    "def actor_1(x):\n",
    "    return ((x.split(\"screenplay); \")[-1]).split(\", \")[0])"
   ]
  },
  {
   "cell_type": "code",
   "execution_count": 25,
   "id": "f7bb5dd3",
   "metadata": {},
   "outputs": [
    {
     "name": "stderr",
     "output_type": "stream",
     "text": [
      "C:\\Users\\MAHAK\\AppData\\Local\\Temp\\ipykernel_18824\\1375227415.py:1: SettingWithCopyWarning: \n",
      "A value is trying to be set on a copy of a slice from a DataFrame.\n",
      "Try using .loc[row_indexer,col_indexer] = value instead\n",
      "\n",
      "See the caveats in the documentation: https://pandas.pydata.org/pandas-docs/stable/user_guide/indexing.html#returning-a-view-versus-a-copy\n",
      "  df_5['actor_1_name'] = df_5['Cast and crew'].map(lambda x: actor_1(x))\n"
     ]
    }
   ],
   "source": [
    "df_5['actor_1_name'] = df_5['Cast and crew'].map(lambda x: actor_1(x))"
   ]
  },
  {
   "cell_type": "code",
   "execution_count": 26,
   "id": "046801bb",
   "metadata": {},
   "outputs": [],
   "source": [
    "def actor2(x):\n",
    "    if len((x.split(\"screenplay); \")[-1]).split(\", \")) < 2:\n",
    "        return np.NaN\n",
    "    else:\n",
    "        return ((x.split(\"screenplay); \")[-1]).split(\", \")[1])"
   ]
  },
  {
   "cell_type": "code",
   "execution_count": 27,
   "id": "e8065753",
   "metadata": {},
   "outputs": [
    {
     "name": "stderr",
     "output_type": "stream",
     "text": [
      "C:\\Users\\MAHAK\\AppData\\Local\\Temp\\ipykernel_18824\\2254440078.py:1: SettingWithCopyWarning: \n",
      "A value is trying to be set on a copy of a slice from a DataFrame.\n",
      "Try using .loc[row_indexer,col_indexer] = value instead\n",
      "\n",
      "See the caveats in the documentation: https://pandas.pydata.org/pandas-docs/stable/user_guide/indexing.html#returning-a-view-versus-a-copy\n",
      "  df_5['actor_2_name'] = df_5['Cast and crew'].map(lambda x: actor2(x))\n"
     ]
    }
   ],
   "source": [
    "df_5['actor_2_name'] = df_5['Cast and crew'].map(lambda x: actor2(x))"
   ]
  },
  {
   "cell_type": "code",
   "execution_count": 28,
   "id": "fb4e94fd",
   "metadata": {},
   "outputs": [],
   "source": [
    "def actor3(x):\n",
    "    if len((x.split(\"screenplay); \")[-1]).split(\", \")) < 3:\n",
    "        return np.NaN\n",
    "    else:\n",
    "        return ((x.split(\"screenplay); \")[-1]).split(\", \")[2])"
   ]
  },
  {
   "cell_type": "code",
   "execution_count": 29,
   "id": "33a786d0",
   "metadata": {},
   "outputs": [],
   "source": [
    "df_5['actor_3_name'] = df_5['Cast and crew'].map(lambda x: actor3(x))"
   ]
  },
  {
   "cell_type": "code",
   "execution_count": 30,
   "id": "799fc0f9",
   "metadata": {},
   "outputs": [],
   "source": [
    "df_5= df_5.rename(columns={'Title':'movie_title'})"
   ]
  },
  {
   "cell_type": "code",
   "execution_count": 31,
   "id": "79e6d044",
   "metadata": {},
   "outputs": [],
   "source": [
    "data_5 = df_5.loc[:,['director_name','actor_1_name','actor_2_name','actor_3_name','genres','movie_title']]"
   ]
  },
  {
   "cell_type": "code",
   "execution_count": 32,
   "id": "5c8d98f4",
   "metadata": {},
   "outputs": [],
   "source": [
    "data_5['actor_2_name'] = data_5['actor_2_name'].replace(np.nan, 'unknown')\n",
    "data_5['actor_3_name'] = data_5['actor_3_name'].replace(np.nan, 'unknown')"
   ]
  },
  {
   "cell_type": "code",
   "execution_count": 33,
   "id": "dac18c84",
   "metadata": {},
   "outputs": [],
   "source": [
    "data_5['movie_title']=data_5['movie_title'].str.lower()"
   ]
  },
  {
   "cell_type": "code",
   "execution_count": 35,
   "id": "3cebed22",
   "metadata": {},
   "outputs": [],
   "source": [
    "data_5['comb']=data_5['actor_1_name'] + ' ' + data_5['actor_2_name'] + ' ' + data_5['actor_3_name'] + ' ' + data_5['director_name'] + \" \" + data_5['genres']  "
   ]
  },
  {
   "cell_type": "code",
   "execution_count": 36,
   "id": "ea7fe4e7",
   "metadata": {},
   "outputs": [
    {
     "data": {
      "text/plain": [
       "director_name    0\n",
       "actor_1_name     0\n",
       "actor_2_name     0\n",
       "actor_3_name     0\n",
       "genres           3\n",
       "movie_title      0\n",
       "comb             3\n",
       "dtype: int64"
      ]
     },
     "execution_count": 36,
     "metadata": {},
     "output_type": "execute_result"
    }
   ],
   "source": [
    "data_5.isna().sum()"
   ]
  },
  {
   "cell_type": "code",
   "execution_count": 37,
   "id": "bed45fec",
   "metadata": {},
   "outputs": [],
   "source": [
    "data_5 = data_5.dropna(how='any')"
   ]
  },
  {
   "cell_type": "code",
   "execution_count": 42,
   "id": "a2b6df26",
   "metadata": {},
   "outputs": [
    {
     "data": {
      "text/plain": [
       "director_name    0\n",
       "actor_1_name     0\n",
       "actor_2_name     0\n",
       "actor_3_name     0\n",
       "genres           0\n",
       "movie_title      0\n",
       "comb             0\n",
       "dtype: int64"
      ]
     },
     "execution_count": 42,
     "metadata": {},
     "output_type": "execute_result"
    }
   ],
   "source": [
    "data_5.isna().sum()"
   ]
  },
  {
   "cell_type": "code",
   "execution_count": 38,
   "id": "2d902203",
   "metadata": {},
   "outputs": [
    {
     "data": {
      "text/html": [
       "<div>\n",
       "<style scoped>\n",
       "    .dataframe tbody tr th:only-of-type {\n",
       "        vertical-align: middle;\n",
       "    }\n",
       "\n",
       "    .dataframe tbody tr th {\n",
       "        vertical-align: top;\n",
       "    }\n",
       "\n",
       "    .dataframe thead th {\n",
       "        text-align: right;\n",
       "    }\n",
       "</style>\n",
       "<table border=\"1\" class=\"dataframe\">\n",
       "  <thead>\n",
       "    <tr style=\"text-align: right;\">\n",
       "      <th></th>\n",
       "      <th>director_name</th>\n",
       "      <th>actor_1_name</th>\n",
       "      <th>actor_2_name</th>\n",
       "      <th>actor_3_name</th>\n",
       "      <th>genres</th>\n",
       "      <th>movie_title</th>\n",
       "      <th>comb</th>\n",
       "    </tr>\n",
       "  </thead>\n",
       "  <tbody>\n",
       "    <tr>\n",
       "      <th>0</th>\n",
       "      <td>Nicolas Pesce</td>\n",
       "      <td>Andrea Riseborough</td>\n",
       "      <td>Demián Bichir</td>\n",
       "      <td>John Cho</td>\n",
       "      <td>Horror Mystery Thriller</td>\n",
       "      <td>the grudge</td>\n",
       "      <td>Andrea Riseborough Demián Bichir John Cho Nico...</td>\n",
       "    </tr>\n",
       "    <tr>\n",
       "      <th>1</th>\n",
       "      <td>William Eubank</td>\n",
       "      <td>Kristen Stewart</td>\n",
       "      <td>Vincent Cassel</td>\n",
       "      <td>Jessica Henwick</td>\n",
       "      <td>Action Horror Science Fiction</td>\n",
       "      <td>underwater</td>\n",
       "      <td>Kristen Stewart Vincent Cassel Jessica Henwick...</td>\n",
       "    </tr>\n",
       "    <tr>\n",
       "      <th>2</th>\n",
       "      <td>Miguel Arteta</td>\n",
       "      <td>Tiffany Haddish</td>\n",
       "      <td>Rose Byrne</td>\n",
       "      <td>Salma Hayek</td>\n",
       "      <td>Comedy</td>\n",
       "      <td>like a boss</td>\n",
       "      <td>Tiffany Haddish Rose Byrne Salma Hayek Miguel ...</td>\n",
       "    </tr>\n",
       "    <tr>\n",
       "      <th>3</th>\n",
       "      <td>Jon Avnet</td>\n",
       "      <td>Richard Gere</td>\n",
       "      <td>Peter Dinklage</td>\n",
       "      <td>Walton Goggins</td>\n",
       "      <td>Drama</td>\n",
       "      <td>three christs</td>\n",
       "      <td>Richard Gere Peter Dinklage Walton Goggins Jon...</td>\n",
       "    </tr>\n",
       "    <tr>\n",
       "      <th>4</th>\n",
       "      <td>Anthony Jerjen</td>\n",
       "      <td>Josh Hartnett</td>\n",
       "      <td>Margarita Levieva</td>\n",
       "      <td>Chandler Riggs</td>\n",
       "      <td>Crime Thriller Drama</td>\n",
       "      <td>inherit the viper</td>\n",
       "      <td>Josh Hartnett Margarita Levieva Chandler Riggs...</td>\n",
       "    </tr>\n",
       "    <tr>\n",
       "      <th>...</th>\n",
       "      <td>...</td>\n",
       "      <td>...</td>\n",
       "      <td>...</td>\n",
       "      <td>...</td>\n",
       "      <td>...</td>\n",
       "      <td>...</td>\n",
       "      <td>...</td>\n",
       "    </tr>\n",
       "    <tr>\n",
       "      <th>270</th>\n",
       "      <td>Robert Rodriguez</td>\n",
       "      <td>Priyanka Chopra Jonas</td>\n",
       "      <td>Pedro Pascal</td>\n",
       "      <td>YaYa Gosselin</td>\n",
       "      <td>Action Fantasy Family Comedy</td>\n",
       "      <td>we can be heroes</td>\n",
       "      <td>Priyanka Chopra Jonas Pedro Pascal YaYa Gossel...</td>\n",
       "    </tr>\n",
       "    <tr>\n",
       "      <th>271</th>\n",
       "      <td>Paul Greengrass</td>\n",
       "      <td>Tom Hanks</td>\n",
       "      <td>Helena Zengel</td>\n",
       "      <td>unknown</td>\n",
       "      <td>Drama Western Adventure Action</td>\n",
       "      <td>news of the world</td>\n",
       "      <td>Tom Hanks Helena Zengel unknown Paul Greengras...</td>\n",
       "    </tr>\n",
       "    <tr>\n",
       "      <th>272</th>\n",
       "      <td>Regina King</td>\n",
       "      <td>Kingsley Ben-Adir</td>\n",
       "      <td>Eli Goree</td>\n",
       "      <td>Aldis Hodge</td>\n",
       "      <td>Drama</td>\n",
       "      <td>one night in miami...</td>\n",
       "      <td>Kingsley Ben-Adir Eli Goree Aldis Hodge Regina...</td>\n",
       "    </tr>\n",
       "    <tr>\n",
       "      <th>273</th>\n",
       "      <td>Emerald Fennell</td>\n",
       "      <td>Carey Mulligan</td>\n",
       "      <td>Bo Burnham</td>\n",
       "      <td>Alison Brie</td>\n",
       "      <td>Thriller Crime Drama</td>\n",
       "      <td>promising young woman</td>\n",
       "      <td>Carey Mulligan Bo Burnham Alison Brie Emerald ...</td>\n",
       "    </tr>\n",
       "    <tr>\n",
       "      <th>274</th>\n",
       "      <td>Kornél Mundruczó</td>\n",
       "      <td>Vanessa Kirby</td>\n",
       "      <td>Shia LaBeouf</td>\n",
       "      <td>Molly Parker</td>\n",
       "      <td>Drama</td>\n",
       "      <td>pieces of a woman</td>\n",
       "      <td>Vanessa Kirby Shia LaBeouf Molly Parker Kornél...</td>\n",
       "    </tr>\n",
       "  </tbody>\n",
       "</table>\n",
       "<p>272 rows × 7 columns</p>\n",
       "</div>"
      ],
      "text/plain": [
       "         director_name           actor_1_name       actor_2_name  \\\n",
       "0       Nicolas Pesce      Andrea Riseborough      Demián Bichir   \n",
       "1      William Eubank         Kristen Stewart     Vincent Cassel   \n",
       "2       Miguel Arteta         Tiffany Haddish         Rose Byrne   \n",
       "3           Jon Avnet            Richard Gere     Peter Dinklage   \n",
       "4      Anthony Jerjen           Josh Hartnett  Margarita Levieva   \n",
       "..                 ...                    ...                ...   \n",
       "270  Robert Rodriguez   Priyanka Chopra Jonas       Pedro Pascal   \n",
       "271   Paul Greengrass               Tom Hanks      Helena Zengel   \n",
       "272       Regina King       Kingsley Ben-Adir          Eli Goree   \n",
       "273   Emerald Fennell          Carey Mulligan         Bo Burnham   \n",
       "274  Kornél Mundruczó           Vanessa Kirby       Shia LaBeouf   \n",
       "\n",
       "        actor_3_name                          genres            movie_title  \\\n",
       "0           John Cho         Horror Mystery Thriller             the grudge   \n",
       "1    Jessica Henwick   Action Horror Science Fiction             underwater   \n",
       "2        Salma Hayek                          Comedy            like a boss   \n",
       "3     Walton Goggins                           Drama          three christs   \n",
       "4     Chandler Riggs            Crime Thriller Drama      inherit the viper   \n",
       "..               ...                             ...                    ...   \n",
       "270    YaYa Gosselin    Action Fantasy Family Comedy       we can be heroes   \n",
       "271          unknown  Drama Western Adventure Action      news of the world   \n",
       "272      Aldis Hodge                           Drama  one night in miami...   \n",
       "273      Alison Brie            Thriller Crime Drama  promising young woman   \n",
       "274     Molly Parker                           Drama      pieces of a woman   \n",
       "\n",
       "                                                  comb  \n",
       "0    Andrea Riseborough Demián Bichir John Cho Nico...  \n",
       "1    Kristen Stewart Vincent Cassel Jessica Henwick...  \n",
       "2    Tiffany Haddish Rose Byrne Salma Hayek Miguel ...  \n",
       "3    Richard Gere Peter Dinklage Walton Goggins Jon...  \n",
       "4    Josh Hartnett Margarita Levieva Chandler Riggs...  \n",
       "..                                                 ...  \n",
       "270  Priyanka Chopra Jonas Pedro Pascal YaYa Gossel...  \n",
       "271  Tom Hanks Helena Zengel unknown Paul Greengras...  \n",
       "272  Kingsley Ben-Adir Eli Goree Aldis Hodge Regina...  \n",
       "273  Carey Mulligan Bo Burnham Alison Brie Emerald ...  \n",
       "274  Vanessa Kirby Shia LaBeouf Molly Parker Kornél...  \n",
       "\n",
       "[272 rows x 7 columns]"
      ]
     },
     "execution_count": 38,
     "metadata": {},
     "output_type": "execute_result"
    }
   ],
   "source": [
    "data_5"
   ]
  },
  {
   "cell_type": "code",
   "execution_count": 39,
   "id": "47d10877",
   "metadata": {},
   "outputs": [],
   "source": [
    "data_upto4=pd.read_csv('data3&4.csv')"
   ]
  },
  {
   "cell_type": "code",
   "execution_count": 40,
   "id": "acab1849",
   "metadata": {},
   "outputs": [
    {
     "name": "stderr",
     "output_type": "stream",
     "text": [
      "C:\\Users\\MAHAK\\AppData\\Local\\Temp\\ipykernel_18824\\3854006697.py:2: FutureWarning: The frame.append method is deprecated and will be removed from pandas in a future version. Use pandas.concat instead.\n",
      "  data_upto5=data_upto4.append(data_5,ignore_index=True)\n"
     ]
    }
   ],
   "source": [
    "# final data or data_upto 5\n",
    "data_upto5=data_upto4.append(data_5,ignore_index=True)"
   ]
  },
  {
   "cell_type": "code",
   "execution_count": 41,
   "id": "da3a354f",
   "metadata": {},
   "outputs": [],
   "source": [
    "data_upto5.to_csv('data5.csv')"
   ]
  },
  {
   "cell_type": "code",
   "execution_count": null,
   "id": "04e25b64",
   "metadata": {},
   "outputs": [],
   "source": []
  }
 ],
 "metadata": {
  "kernelspec": {
   "display_name": "Python 3 (ipykernel)",
   "language": "python",
   "name": "python3"
  },
  "language_info": {
   "codemirror_mode": {
    "name": "ipython",
    "version": 3
   },
   "file_extension": ".py",
   "mimetype": "text/x-python",
   "name": "python",
   "nbconvert_exporter": "python",
   "pygments_lexer": "ipython3",
   "version": "3.10.7"
  }
 },
 "nbformat": 4,
 "nbformat_minor": 5
}
